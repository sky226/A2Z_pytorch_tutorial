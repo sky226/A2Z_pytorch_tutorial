{
 "cells": [
  {
   "cell_type": "markdown",
   "metadata": {},
   "source": [
    "# lab-10-6-1_Advanced-CNN(ResNet)"
   ]
  },
  {
   "cell_type": "code",
   "execution_count": 14,
   "metadata": {
    "ExecuteTime": {
     "end_time": "2021-02-04T00:02:42.388980Z",
     "start_time": "2021-02-04T00:02:42.379831Z"
    }
   },
   "outputs": [],
   "source": [
    "import torch.nn as nn\n",
    "import torch.utils.model_zoo as model_zoo\n",
    "import torch\n",
    "\n",
    "\n",
    "__all__ = ['ResNet', 'resnet18', 'resnet34', 'resnet50', 'resnet101',\n",
    "           'resnet152']\n",
    "\n",
    "\n",
    "model_urls = {\n",
    "    'resnet18': 'https://download.pytorch.org/models/resnet18-5c106cde.pth',\n",
    "    'resnet34': 'https://download.pytorch.org/models/resnet34-333f7ec4.pth',\n",
    "    'resnet50': 'https://download.pytorch.org/models/resnet50-19c8e357.pth',\n",
    "    'resnet101': 'https://download.pytorch.org/models/resnet101-5d3b4d8f.pth',\n",
    "    'resnet152': 'https://download.pytorch.org/models/resnet152-b121ed2d.pth',\n",
    "}"
   ]
  },
  {
   "cell_type": "code",
   "execution_count": 2,
   "metadata": {
    "ExecuteTime": {
     "end_time": "2021-02-04T00:01:03.802525Z",
     "start_time": "2021-02-04T00:01:03.797767Z"
    }
   },
   "outputs": [],
   "source": [
    "def conv3x3(in_planes, out_planes, stride=1):\n",
    "    \"\"\"3x3 convolution with padding\"\"\"\n",
    "    return nn.Conv2d(in_planes, out_planes, kernel_size=3, stride=stride,\n",
    "                     padding=1, bias=False)\n",
    "\n",
    "\n",
    "def conv1x1(in_planes, out_planes, stride=1):\n",
    "    \"\"\"1x1 convolution\"\"\"\n",
    "    return nn.Conv2d(in_planes, out_planes, kernel_size=1, stride=stride, bias=False)"
   ]
  },
  {
   "cell_type": "code",
   "execution_count": 3,
   "metadata": {
    "ExecuteTime": {
     "end_time": "2021-02-04T00:01:03.812292Z",
     "start_time": "2021-02-04T00:01:03.804450Z"
    }
   },
   "outputs": [],
   "source": [
    "class BasicBlock(nn.Module):\n",
    "    expansion = 1\n",
    "\n",
    "    def __init__(self, inplanes, planes, stride=1, downsample=None):\n",
    "        super(BasicBlock, self).__init__()\n",
    "        self.conv1 = conv3x3(inplanes, planes, stride)\n",
    "        self.bn1 = nn.BatchNorm2d(planes)\n",
    "        self.relu = nn.ReLU(inplace=True)\n",
    "        self.conv2 = conv3x3(planes, planes)\n",
    "        self.bn2 = nn.BatchNorm2d(planes)\n",
    "        self.downsample = downsample\n",
    "        self.stride = stride\n",
    "\n",
    "    def forward(self, x):\n",
    "\n",
    "        identity = x\n",
    "\n",
    "        out = self.conv1(x) # 3x3 stride = 2\n",
    "        out = self.bn1(out)\n",
    "        out = self.relu(out)\n",
    "\n",
    "        out = self.conv2(out) # 3x3 stride = 1\n",
    "        out = self.bn2(out)\n",
    "\n",
    "        if self.downsample is not None:\n",
    "            identity = self.downsample(x)\n",
    "\n",
    "        out += identity\n",
    "        out = self.relu(out)\n",
    "\n",
    "        return out"
   ]
  },
  {
   "cell_type": "code",
   "execution_count": 4,
   "metadata": {
    "ExecuteTime": {
     "end_time": "2021-02-04T00:01:03.951419Z",
     "start_time": "2021-02-04T00:01:03.936530Z"
    }
   },
   "outputs": [],
   "source": [
    "class Bottleneck(nn.Module):\n",
    "    expansion = 4\n",
    "\n",
    "    def __init__(self, inplanes, planes, stride=1, downsample=None):\n",
    "        super(Bottleneck, self).__init__()\n",
    "        self.conv1 = conv1x1(inplanes, planes) #conv1x1(64,64)\n",
    "        self.bn1 = nn.BatchNorm2d(planes)\n",
    "        self.conv2 = conv3x3(planes, planes, stride)#conv3x3(64,64)\n",
    "        self.bn2 = nn.BatchNorm2d(planes)\n",
    "        self.conv3 = conv1x1(planes, planes * self.expansion) #conv1x1(64,256)\n",
    "        self.bn3 = nn.BatchNorm2d(planes * self.expansion)\n",
    "        self.relu = nn.ReLU(inplace=True)\n",
    "        self.downsample = downsample\n",
    "        self.stride = stride\n",
    "\n",
    "    def forward(self, x):\n",
    "        identity = x\n",
    "\n",
    "        out = self.conv1(x) # 1x1 stride = 1\n",
    "        out = self.bn1(out)\n",
    "        out = self.relu(out)\n",
    "\n",
    "        out = self.conv2(out) # 3x3 stride = stride \n",
    "        out = self.bn2(out)\n",
    "        out = self.relu(out)\n",
    "\n",
    "        out = self.conv3(out) # 1x1 stride = 1\n",
    "        out = self.bn3(out)\n",
    "\n",
    "        if self.downsample is not None:\n",
    "            identity = self.downsample(x)\n",
    "\n",
    "        out += identity\n",
    "        out = self.relu(out)\n",
    "\n",
    "        return out"
   ]
  },
  {
   "cell_type": "code",
   "execution_count": 25,
   "metadata": {
    "ExecuteTime": {
     "end_time": "2021-02-04T00:03:38.646119Z",
     "start_time": "2021-02-04T00:03:38.621752Z"
    }
   },
   "outputs": [],
   "source": [
    "class ResNet(nn.Module):\n",
    "    # model = ResNet(Bottleneck, [3, 4, 6, 3], **kwargs) #resnet 50 \n",
    "    def __init__(self, block, layers, num_classes=1000, zero_init_residual=False):\n",
    "        super(ResNet, self).__init__()\n",
    "        \n",
    "        self.inplanes = 64\n",
    "               \n",
    "        self.conv1 = nn.Conv2d(3, 64, kernel_size=7, stride=2, padding=3, bias=False)\n",
    "        \n",
    "        self.bn1 = nn.BatchNorm2d(64)\n",
    "        self.relu = nn.ReLU(inplace=True)\n",
    "        \n",
    "        self.maxpool = nn.MaxPool2d(kernel_size=3, stride=2, padding=1)\n",
    "        \n",
    "        self.layer1 = self._make_layer(block, 64, layers[0])\n",
    "        self.layer2 = self._make_layer(block, 128, layers[1], stride=2)\n",
    "        self.layer3 = self._make_layer(block, 256, layers[2], stride=2)\n",
    "        self.layer4 = self._make_layer(block, 512, layers[3], stride=2)\n",
    "        \n",
    "        self.avgpool = nn.AdaptiveAvgPool2d((1, 1))\n",
    "        self.fc = nn.Linear(512 * block.expansion, num_classes)\n",
    "\n",
    "        for m in self.modules():\n",
    "            if isinstance(m, nn.Conv2d):\n",
    "                nn.init.kaiming_normal_(m.weight, mode='fan_out', nonlinearity='relu')\n",
    "            elif isinstance(m, nn.BatchNorm2d):\n",
    "                nn.init.constant_(m.weight, 1)\n",
    "                nn.init.constant_(m.bias, 0)\n",
    "\n",
    "        # Zero-initialize the last BN in each residual branch,\n",
    "        # so that the residual branch starts with zeros, and each residual block behaves like an identity.\n",
    "        # This improves the model by 0.2~0.3% according to https://arxiv.org/abs/1706.02677\n",
    "        if zero_init_residual:\n",
    "            for m in self.modules():\n",
    "                if isinstance(m, Bottleneck):\n",
    "                    nn.init.constant_(m.bn3.weight, 0)\n",
    "                elif isinstance(m, BasicBlock):\n",
    "                    nn.init.constant_(m.bn2.weight, 0)\n",
    "    \n",
    "    def _make_layer(self, block, planes, blocks, stride=1):\n",
    "        \n",
    "        downsample = None\n",
    "        \n",
    "        if stride != 1 or self.inplanes != planes * block.expansion: \n",
    "            \n",
    "            downsample = nn.Sequential(\n",
    "                conv1x1(self.inplanes, planes * block.expansion, stride), #conv1x1(256, 512, 2)\n",
    "                nn.BatchNorm2d(planes * block.expansion), #batchnrom2d(512)\n",
    "            )\n",
    "\n",
    "        layers = []\n",
    "        layers.append(block(self.inplanes, planes, stride, downsample))\n",
    "        \n",
    "        self.inplanes = planes * block.expansion #self.inplanes = 128 * 4\n",
    "        \n",
    "        for _ in range(1, blocks): \n",
    "            layers.append(block(self.inplanes, planes)) # * 3\n",
    "\n",
    "        return nn.Sequential(*layers)\n",
    "    \n",
    "\n",
    "    def forward(self, x):\n",
    "        x = self.conv1(x)\n",
    "        x = self.bn1(x)\n",
    "        x = self.relu(x)\n",
    "        x = self.maxpool(x)\n",
    "        print(x.shape)\n",
    "        x = self.layer1(x)\n",
    "        print(x.shape)\n",
    "        x = self.layer2(x)\n",
    "        print(x.shape)\n",
    "        x = self.layer3(x)\n",
    "        print(x.shape)\n",
    "        x = self.layer4(x)\n",
    "        print(x.shape)\n",
    "\n",
    "        x = self.avgpool(x)\n",
    "        x = x.view(x.size(0), -1)\n",
    "        x = self.fc(x)\n",
    "\n",
    "        return x"
   ]
  },
  {
   "cell_type": "code",
   "execution_count": 26,
   "metadata": {
    "ExecuteTime": {
     "end_time": "2021-02-04T00:03:40.470539Z",
     "start_time": "2021-02-04T00:03:40.464966Z"
    }
   },
   "outputs": [],
   "source": [
    "def resnet18(pretrained=False, **kwargs):\n",
    "    model = ResNet(BasicBlock, [2, 2, 2, 2], **kwargs) #=> 2*(2+2+2+2) +1(conv1) +1(fc)  = 16 +2 =resnet 18\n",
    "    return model"
   ]
  },
  {
   "cell_type": "code",
   "execution_count": 27,
   "metadata": {
    "ExecuteTime": {
     "end_time": "2021-02-04T00:03:40.967379Z",
     "start_time": "2021-02-04T00:03:40.961808Z"
    }
   },
   "outputs": [],
   "source": [
    "def resnet50(pretrained=False, **kwargs):\n",
    "    model = ResNet(Bottleneck, [3, 4, 6, 3], **kwargs) #=> 3*(3+4+6+3) +(conv1) +1(fc) = 48 +2 = 50\n",
    "    return model"
   ]
  },
  {
   "cell_type": "code",
   "execution_count": 28,
   "metadata": {
    "ExecuteTime": {
     "end_time": "2021-02-04T00:03:41.475895Z",
     "start_time": "2021-02-04T00:03:41.470359Z"
    }
   },
   "outputs": [],
   "source": [
    "def resnet152(pretrained=False, **kwargs):\n",
    "    model = ResNet(Bottleneck, [3, 8, 36, 3], **kwargs) # 3*(3+8+36+3) +2 = 150+2 = resnet152    \n",
    "    return mode"
   ]
  },
  {
   "cell_type": "code",
   "execution_count": 29,
   "metadata": {
    "ExecuteTime": {
     "end_time": "2021-02-04T00:03:42.282941Z",
     "start_time": "2021-02-04T00:03:42.278488Z"
    }
   },
   "outputs": [],
   "source": [
    "import torchvision.models.resnet as resnet"
   ]
  },
  {
   "cell_type": "code",
   "execution_count": 30,
   "metadata": {
    "ExecuteTime": {
     "end_time": "2021-02-04T00:03:54.449066Z",
     "start_time": "2021-02-04T00:03:54.076422Z"
    }
   },
   "outputs": [],
   "source": [
    "res = resnet50()"
   ]
  },
  {
   "cell_type": "code",
   "execution_count": 33,
   "metadata": {
    "ExecuteTime": {
     "end_time": "2021-02-04T00:23:38.226935Z",
     "start_time": "2021-02-04T00:23:38.219385Z"
    }
   },
   "outputs": [
    {
     "data": {
      "text/plain": [
       "Sequential(\n",
       "  (0): Bottleneck(\n",
       "    (conv1): Conv2d(256, 128, kernel_size=(1, 1), stride=(1, 1), bias=False)\n",
       "    (bn1): BatchNorm2d(128, eps=1e-05, momentum=0.1, affine=True, track_running_stats=True)\n",
       "    (conv2): Conv2d(128, 128, kernel_size=(3, 3), stride=(2, 2), padding=(1, 1), bias=False)\n",
       "    (bn2): BatchNorm2d(128, eps=1e-05, momentum=0.1, affine=True, track_running_stats=True)\n",
       "    (conv3): Conv2d(128, 512, kernel_size=(1, 1), stride=(1, 1), bias=False)\n",
       "    (bn3): BatchNorm2d(512, eps=1e-05, momentum=0.1, affine=True, track_running_stats=True)\n",
       "    (relu): ReLU(inplace=True)\n",
       "    (downsample): Sequential(\n",
       "      (0): Conv2d(256, 512, kernel_size=(1, 1), stride=(2, 2), bias=False)\n",
       "      (1): BatchNorm2d(512, eps=1e-05, momentum=0.1, affine=True, track_running_stats=True)\n",
       "    )\n",
       "  )\n",
       "  (1): Bottleneck(\n",
       "    (conv1): Conv2d(512, 128, kernel_size=(1, 1), stride=(1, 1), bias=False)\n",
       "    (bn1): BatchNorm2d(128, eps=1e-05, momentum=0.1, affine=True, track_running_stats=True)\n",
       "    (conv2): Conv2d(128, 128, kernel_size=(3, 3), stride=(1, 1), padding=(1, 1), bias=False)\n",
       "    (bn2): BatchNorm2d(128, eps=1e-05, momentum=0.1, affine=True, track_running_stats=True)\n",
       "    (conv3): Conv2d(128, 512, kernel_size=(1, 1), stride=(1, 1), bias=False)\n",
       "    (bn3): BatchNorm2d(512, eps=1e-05, momentum=0.1, affine=True, track_running_stats=True)\n",
       "    (relu): ReLU(inplace=True)\n",
       "  )\n",
       "  (2): Bottleneck(\n",
       "    (conv1): Conv2d(512, 128, kernel_size=(1, 1), stride=(1, 1), bias=False)\n",
       "    (bn1): BatchNorm2d(128, eps=1e-05, momentum=0.1, affine=True, track_running_stats=True)\n",
       "    (conv2): Conv2d(128, 128, kernel_size=(3, 3), stride=(1, 1), padding=(1, 1), bias=False)\n",
       "    (bn2): BatchNorm2d(128, eps=1e-05, momentum=0.1, affine=True, track_running_stats=True)\n",
       "    (conv3): Conv2d(128, 512, kernel_size=(1, 1), stride=(1, 1), bias=False)\n",
       "    (bn3): BatchNorm2d(512, eps=1e-05, momentum=0.1, affine=True, track_running_stats=True)\n",
       "    (relu): ReLU(inplace=True)\n",
       "  )\n",
       "  (3): Bottleneck(\n",
       "    (conv1): Conv2d(512, 128, kernel_size=(1, 1), stride=(1, 1), bias=False)\n",
       "    (bn1): BatchNorm2d(128, eps=1e-05, momentum=0.1, affine=True, track_running_stats=True)\n",
       "    (conv2): Conv2d(128, 128, kernel_size=(3, 3), stride=(1, 1), padding=(1, 1), bias=False)\n",
       "    (bn2): BatchNorm2d(128, eps=1e-05, momentum=0.1, affine=True, track_running_stats=True)\n",
       "    (conv3): Conv2d(128, 512, kernel_size=(1, 1), stride=(1, 1), bias=False)\n",
       "    (bn3): BatchNorm2d(512, eps=1e-05, momentum=0.1, affine=True, track_running_stats=True)\n",
       "    (relu): ReLU(inplace=True)\n",
       "  )\n",
       ")"
      ]
     },
     "execution_count": 33,
     "metadata": {},
     "output_type": "execute_result"
    }
   ],
   "source": [
    "res.layer2"
   ]
  },
  {
   "cell_type": "code",
   "execution_count": 31,
   "metadata": {
    "ExecuteTime": {
     "end_time": "2021-02-04T00:03:55.512042Z",
     "start_time": "2021-02-04T00:03:55.349282Z"
    }
   },
   "outputs": [
    {
     "name": "stdout",
     "output_type": "stream",
     "text": [
      "torch.Size([1, 64, 56, 56])\n",
      "torch.Size([1, 256, 56, 56])\n",
      "torch.Size([1, 512, 28, 28])\n",
      "torch.Size([1, 1024, 14, 14])\n",
      "torch.Size([1, 2048, 7, 7])\n"
     ]
    },
    {
     "data": {
      "text/plain": [
       "tensor([[ 2.8544e-01, -8.9127e-01, -9.9474e-01,  5.7784e-01,  1.0153e-01,\n",
       "         -3.0371e-01,  1.4524e+00,  6.0225e-01,  6.4610e-02,  5.0990e-02,\n",
       "         -1.1059e-01,  4.8578e-01, -2.1766e+00, -2.1734e-02, -8.9788e-01,\n",
       "         -7.1270e-01,  5.1721e-01,  7.7119e-01,  3.6994e-01,  1.5285e+00,\n",
       "          3.0608e-01, -5.1591e-01,  4.4928e-02,  8.8582e-01, -1.4997e+00,\n",
       "         -4.8099e-01,  8.8149e-02, -5.6529e-01,  7.2651e-01,  4.9813e-01,\n",
       "         -4.0707e-01,  1.0106e+00,  8.6784e-01,  4.8731e-01,  1.1379e+00,\n",
       "         -4.5810e-02, -7.7232e-01, -1.8117e-01,  4.6920e-01, -7.6685e-01,\n",
       "         -5.1832e-01,  6.5355e-01,  9.9808e-01, -4.4291e-01,  5.8856e-01,\n",
       "          6.6086e-01, -1.1851e+00,  9.7067e-02,  2.8935e-01,  5.9350e-01,\n",
       "          2.1874e-01, -7.2250e-02, -6.4726e-02, -8.2340e-01, -7.1680e-01,\n",
       "         -1.1043e+00, -1.0209e+00, -2.8395e-01,  1.4722e-01,  9.4732e-01,\n",
       "         -8.7176e-01, -2.2982e-01,  4.4035e-02, -4.3961e-01,  7.2278e-03,\n",
       "          2.2052e-01,  3.4803e-01,  2.5894e-01,  1.0788e+00,  1.0493e-01,\n",
       "         -4.9835e-02,  5.1580e-01, -2.8785e-01, -9.4451e-01,  5.0799e-01,\n",
       "          1.5563e-01, -4.2936e-01,  9.9638e-01, -3.8210e-01,  3.4063e-01,\n",
       "         -4.3572e-01, -2.5048e-01, -8.2035e-01, -3.5595e-01,  5.4883e-01,\n",
       "         -9.2554e-01,  2.4622e-02, -1.0901e-01, -8.3394e-01, -7.9757e-01,\n",
       "          2.3682e-01,  4.5537e-01,  5.7762e-01, -6.9262e-01,  1.2110e+00,\n",
       "          4.8580e-01, -5.0636e-01,  2.9599e-01, -2.6824e-01, -4.6995e-01,\n",
       "          3.7750e-01, -4.0178e-02, -1.1190e+00,  3.9923e-01,  1.1227e-01,\n",
       "         -5.8345e-01,  1.7346e-01, -4.3320e-02, -1.4775e-01, -2.4615e-01,\n",
       "          3.2888e-01,  5.4369e-01,  6.8714e-01, -7.8047e-02,  1.1316e-01,\n",
       "          3.4890e-01, -1.3000e+00, -1.2907e+00, -3.4000e-01,  3.2263e-01,\n",
       "         -3.0976e-02,  5.5141e-02, -3.4982e-01, -1.5262e-01, -5.9285e-01,\n",
       "          3.9025e-01,  1.0141e+00, -1.0566e+00,  2.4473e-01, -5.1735e-01,\n",
       "          3.5261e-02, -2.3586e-01, -6.2164e-01,  4.9587e-01,  9.0059e-01,\n",
       "         -6.1503e-02,  4.5940e-01,  7.9216e-01,  7.5424e-01,  5.9759e-01,\n",
       "         -5.1438e-01,  1.0762e+00,  1.1486e-01,  5.5420e-01, -1.3618e+00,\n",
       "          9.0086e-01,  1.5562e-01, -1.2780e-01,  8.3119e-01,  2.6923e-01,\n",
       "         -8.4868e-01, -2.0003e-01,  8.7091e-01, -8.1451e-01,  2.0959e-02,\n",
       "         -2.0249e+00, -3.5483e-01, -2.4604e-01,  1.6995e-01,  3.0338e-01,\n",
       "          5.7078e-01, -1.5350e-01,  8.6627e-01,  9.8071e-01,  3.9909e-01,\n",
       "          3.5297e-01, -2.3364e-01,  5.3447e-01,  8.1159e-03, -5.4702e-01,\n",
       "          5.3026e-01, -5.7164e-01,  2.9407e-01,  2.9314e-01,  1.0660e+00,\n",
       "         -9.5982e-01, -6.8424e-01, -8.4235e-02,  6.8188e-01,  3.4297e-01,\n",
       "          2.0057e-01, -7.8969e-01,  3.8442e-01,  2.4655e-01, -9.5949e-02,\n",
       "         -1.9650e-02, -5.7264e-01,  1.5791e-01,  8.8380e-01, -2.2087e-01,\n",
       "          1.8499e-01,  3.7047e-01,  2.2673e-01,  5.6970e-02,  7.4077e-01,\n",
       "         -8.6271e-01,  1.2526e+00, -8.9044e-02,  3.6659e-01,  3.7821e-01,\n",
       "          1.3557e-01, -1.9414e-01, -9.5838e-01, -5.6775e-01, -1.2390e+00,\n",
       "         -1.6761e-01, -1.8598e-01,  8.7897e-01, -4.1675e-01, -4.1578e-02,\n",
       "          1.2169e-01, -1.1982e-01, -4.3813e-01, -6.2859e-01, -1.6411e-01,\n",
       "          4.2169e-01, -5.9007e-01, -4.6500e-01, -4.7148e-01, -4.6395e-01,\n",
       "          4.8518e-01, -6.1111e-01, -6.2469e-01,  1.6266e-01,  1.2978e+00,\n",
       "          8.2486e-01, -1.4216e+00, -6.8905e-02, -1.0435e-01,  9.3592e-01,\n",
       "         -4.9069e-02,  2.7790e-01, -2.3239e-01,  6.6009e-01, -8.9282e-02,\n",
       "          1.1777e+00, -1.3952e+00,  6.2396e-01, -2.5393e-01,  4.9665e-01,\n",
       "         -1.3136e-01, -4.2822e-01, -2.4284e-01, -5.0073e-01, -1.0156e+00,\n",
       "          6.8335e-01, -6.0533e-01,  3.0376e-01,  1.7596e-01, -6.2990e-01,\n",
       "          2.9179e-01, -7.7254e-01,  1.1769e-01,  6.7939e-01,  1.9819e-01,\n",
       "         -4.9399e-01, -8.2406e-01, -1.6361e-01,  3.4457e-01, -2.0770e-01,\n",
       "          2.3662e-02, -5.9067e-01,  2.8102e-01, -6.1003e-01, -9.8629e-01,\n",
       "         -1.4047e-01, -1.8048e-01, -5.0268e-02,  1.4638e+00, -2.3725e-01,\n",
       "         -4.6121e-01,  3.8709e-01, -2.0065e-01,  7.8069e-01, -9.1807e-02,\n",
       "         -2.5653e-02, -3.9669e-01, -1.8045e+00, -5.7115e-02,  6.1127e-01,\n",
       "         -2.2037e-02,  3.6582e-02, -7.3625e-01, -4.2970e-01,  3.8412e-01,\n",
       "         -5.3642e-01,  3.7765e-02,  8.3875e-01, -6.4809e-01,  9.7916e-01,\n",
       "         -1.2353e+00, -2.4578e-01, -7.9707e-02,  9.4247e-01, -6.6959e-01,\n",
       "         -6.6879e-01,  1.7538e-01,  1.6722e-03,  1.5455e-01,  1.3559e+00,\n",
       "          1.0994e-01, -1.0389e+00, -3.4773e-01, -2.4100e-01,  1.4920e-02,\n",
       "         -7.3737e-01,  3.3838e-01,  5.2504e-01, -3.5366e-03, -1.1256e-01,\n",
       "          3.5820e-01, -7.7219e-01, -4.2877e-01,  4.5686e-01, -1.3900e-01,\n",
       "          1.7035e-01, -6.5384e-01, -2.6845e-01,  3.9386e-01,  1.0092e+00,\n",
       "         -3.5947e-01, -1.9396e-01,  8.1950e-02,  4.1642e-01,  4.6834e-01,\n",
       "         -8.3565e-01, -7.0501e-01, -4.7474e-01, -8.0793e-01, -1.1070e+00,\n",
       "         -1.6931e-01,  2.2164e-01, -3.0467e-01, -1.4851e+00,  8.1316e-01,\n",
       "         -1.4997e-02,  3.6140e-01,  4.1497e-01, -3.8086e-02,  7.3081e-01,\n",
       "          8.6962e-01,  1.2955e-01, -2.0314e-01, -5.3776e-01, -7.5214e-01,\n",
       "          1.0700e-01,  2.6191e-01,  1.3826e+00, -9.3380e-01,  6.8461e-01,\n",
       "         -1.9805e-02,  6.3921e-01,  2.3643e-02,  1.3369e-01, -1.5758e-01,\n",
       "          6.9517e-01,  4.9753e-01,  4.8331e-01,  2.6344e-03,  7.7890e-01,\n",
       "         -2.4909e-01, -2.2477e-01,  9.6925e-03,  7.5337e-01,  4.6150e-02,\n",
       "          4.9752e-01,  1.2565e+00,  6.6808e-01,  4.8083e-02,  4.8583e-02,\n",
       "          5.3288e-01, -2.1199e-01, -3.4495e-01, -9.1329e-02, -5.8352e-01,\n",
       "          1.2172e-01, -2.5756e-01, -8.4263e-01, -3.1908e-01,  1.3406e+00,\n",
       "         -5.3454e-01,  5.7532e-01, -3.2794e-01,  1.0411e-01, -5.2357e-01,\n",
       "         -1.0414e+00, -7.3304e-01, -9.8020e-02,  1.4579e+00, -1.0073e+00,\n",
       "         -7.2517e-01, -2.6810e-01,  1.9607e-01, -1.1861e+00,  3.7417e-02,\n",
       "         -6.5469e-01, -1.9210e-03,  3.7921e-01,  4.4299e-01, -4.8703e-01,\n",
       "         -1.8503e-01, -1.6193e-01, -3.8073e-01, -6.9891e-01, -2.5955e-01,\n",
       "          8.9299e-01,  3.0190e-01,  6.4310e-01, -1.4902e-01, -1.0349e+00,\n",
       "          1.1381e+00,  8.9837e-02, -8.2967e-01, -3.8074e-01, -6.5097e-01,\n",
       "          1.3264e-01,  2.6431e-01, -2.9903e-01,  5.4181e-01,  4.8777e-01,\n",
       "         -5.4389e-01,  8.0759e-01,  4.6038e-01,  9.3877e-03,  4.5511e-01,\n",
       "         -1.3658e+00, -3.6743e-01, -4.8803e-01,  6.5524e-01,  1.7105e+00,\n",
       "          2.9272e-02, -4.5156e-01,  5.0105e-01,  4.8758e-01,  2.7140e-01,\n",
       "         -1.4759e-01,  8.5893e-01, -6.3243e-02, -4.8393e-01, -1.0343e+00,\n",
       "         -4.2630e-01, -4.9135e-01, -6.4181e-02,  7.7702e-01, -4.0403e-01,\n",
       "          1.0392e-01,  6.0858e-02, -5.9780e-01, -1.2735e+00, -8.7953e-02,\n",
       "         -3.3603e-01,  4.1109e-01,  6.3850e-01, -4.1446e-01,  9.0741e-01,\n",
       "          9.1378e-02,  5.1448e-01, -4.6498e-01,  7.6617e-01,  9.3740e-02,\n",
       "          5.1431e-01,  7.5893e-01, -1.9019e-01, -2.0044e-01, -4.2175e-01,\n",
       "         -4.6739e-01,  3.5396e-01, -5.9914e-01, -2.6587e-02,  4.9188e-01,\n",
       "         -2.3189e-02, -4.2050e-01,  5.7771e-01, -7.2353e-01,  2.5768e-02,\n",
       "         -2.1841e-01, -5.0720e-01, -7.3462e-01, -7.7064e-01,  1.8852e-01,\n",
       "          5.8516e-01,  1.3823e+00, -3.5355e-01, -3.5026e-01, -2.9483e-01,\n",
       "         -4.3941e-01, -3.7933e-01, -5.4364e-01,  1.9437e-01,  1.0168e-01,\n",
       "          8.8341e-02, -1.3099e+00, -9.1328e-02, -1.6223e-01,  3.3875e-01,\n",
       "          5.4450e-01,  8.2327e-01, -7.4011e-01, -4.9127e-02,  5.4808e-01,\n",
       "         -2.9250e-01, -4.0859e-01,  1.0912e-01,  7.6462e-01,  1.0098e+00,\n",
       "          1.4456e-01,  4.6671e-02,  5.9798e-01, -1.5169e-02, -1.0600e+00,\n",
       "          3.0142e-01,  8.2734e-02,  1.5928e-03,  8.1308e-01, -5.5848e-01,\n",
       "          1.0713e+00, -1.8278e-01,  8.4955e-01, -2.6992e-01,  2.0023e-01,\n",
       "         -5.4645e-01,  9.7987e-01, -1.6379e-02, -1.5340e-01, -2.3383e-01,\n",
       "          5.0041e-01,  7.3539e-01, -5.0527e-01,  5.8844e-01,  4.2768e-01,\n",
       "          5.6252e-01,  7.1916e-01,  1.1452e+00, -7.3540e-03,  4.3915e-01,\n",
       "         -5.0273e-01, -1.9602e-01,  2.6230e-01, -1.1020e-01, -4.2822e-01,\n",
       "          4.2099e-01, -2.2401e-01,  2.3250e-01, -2.4807e-02, -8.9650e-01,\n",
       "         -1.8408e-01,  3.4940e-01, -2.3723e-01,  2.5630e-01, -2.6189e-01,\n",
       "          1.5193e-01, -3.2772e-01,  1.3073e+00,  3.0313e-01, -6.0451e-02,\n",
       "         -7.0081e-01,  1.0537e+00, -1.8529e-01, -4.1035e-01, -1.0972e+00,\n",
       "          5.5052e-01, -5.7835e-01, -1.7742e-01,  1.2448e+00,  4.9576e-01,\n",
       "          1.9546e-01,  6.0071e-01,  6.2683e-02,  2.6301e-01,  3.6806e-01,\n",
       "          7.3573e-01, -4.6398e-01, -1.1913e-01,  1.1586e-02,  6.9227e-01,\n",
       "          4.1316e-01, -5.1921e-01,  1.1266e+00, -3.2861e-01, -3.5310e-01,\n",
       "         -9.1606e-01, -2.6970e-02,  1.1380e-02, -3.7307e-01, -6.4811e-02,\n",
       "          8.1389e-01, -4.0812e-01, -5.2631e-01, -4.8146e-01,  2.5577e-01,\n",
       "          1.2167e+00, -5.0623e-02, -2.5165e-01,  6.5444e-01,  6.6783e-01,\n",
       "          3.2707e-01, -9.2235e-01,  6.8269e-01,  5.1693e-01,  1.7917e-01,\n",
       "          5.7329e-01,  7.2944e-01, -6.3176e-03, -1.5092e+00, -3.4960e-05,\n",
       "          6.4628e-01, -2.0289e-01, -1.6522e-01, -3.2979e-01,  2.6058e-01,\n",
       "         -1.0645e+00, -8.3599e-01, -6.6995e-01,  2.5319e-01, -4.4017e-01,\n",
       "         -9.5203e-01, -1.0872e+00,  7.4867e-01, -8.9478e-01,  3.7325e-01,\n",
       "         -3.8920e-01,  1.8637e-02, -4.7563e-02, -3.6161e-01,  1.3543e-01,\n",
       "          1.5530e-01, -1.1371e-01,  2.9798e-01,  9.1210e-01, -2.4549e-01,\n",
       "         -4.8679e-01, -1.7678e-01, -4.5581e-01, -5.7429e-01,  6.3462e-01,\n",
       "          6.8945e-01,  1.7361e-01,  3.6367e-01, -1.2140e+00, -2.5231e-01,\n",
       "         -2.8744e-01,  8.6270e-01,  1.9449e-01, -1.3547e+00, -7.4473e-02,\n",
       "         -3.6811e-01, -3.6224e-01,  9.0451e-01,  1.7102e-01,  4.9336e-02,\n",
       "         -8.2952e-02,  5.2044e-01, -5.8203e-01, -4.1305e-01, -9.4263e-01,\n",
       "         -4.8912e-01, -3.4558e-01,  1.5213e+00, -7.3778e-01,  3.9845e-01,\n",
       "         -2.8020e-01, -2.3041e-01,  1.1438e+00, -2.6186e-01, -5.4856e-02,\n",
       "          1.9790e-01,  1.7427e-01,  7.7963e-01, -6.9366e-01,  1.3392e+00,\n",
       "          3.9390e-01,  6.2147e-01, -1.2056e-01,  1.4844e-01,  6.1920e-01,\n",
       "          2.1322e-01,  2.7408e-01, -1.5103e-01,  4.2226e-02,  2.8297e-01,\n",
       "         -8.1602e-01,  1.4739e-01, -7.0774e-01,  4.2233e-01,  2.9390e-02,\n",
       "          5.0395e-01, -4.7585e-01, -2.4902e-01,  5.8846e-04, -1.1901e-01,\n",
       "          5.8328e-02,  4.7494e-01, -3.4483e-01, -6.3831e-01,  1.2919e+00,\n",
       "         -2.6459e-01, -4.8174e-02,  2.0901e-01, -2.0079e-01, -4.8109e-01,\n",
       "         -3.6420e-01, -6.1195e-02, -8.0881e-01, -5.7356e-01, -5.4317e-01,\n",
       "          6.3322e-01,  2.9357e-01, -5.4210e-01,  8.9881e-01,  3.7777e-01,\n",
       "          1.5777e-01, -3.9486e-02,  5.2500e-01,  3.3156e-01, -1.4019e-01,\n",
       "          6.1657e-01,  3.5853e-01,  2.1087e-01, -9.4587e-02, -6.4252e-01,\n",
       "         -1.7600e+00, -2.9075e-01, -1.2569e+00, -2.0982e-01,  1.9744e-01,\n",
       "          4.4092e-01, -6.4756e-01, -3.2863e-01,  4.9943e-01,  4.3935e-01,\n",
       "         -1.7224e-02, -5.2893e-01, -4.6698e-01, -1.2270e-01, -9.6784e-01,\n",
       "         -3.2439e-01,  1.6914e-01, -7.2547e-01, -8.8954e-01, -3.9983e-01,\n",
       "         -2.8110e-01, -5.4030e-01,  7.8693e-01, -2.4659e-02, -6.4786e-01,\n",
       "         -6.9068e-01,  4.5907e-01,  6.7407e-01, -1.0973e-01,  9.3657e-02,\n",
       "         -3.8778e-01, -7.3735e-01, -7.8491e-01,  8.7837e-01,  7.5063e-01,\n",
       "         -4.0683e-01,  2.2722e-01,  6.2076e-01, -5.0250e-02, -4.0971e-01,\n",
       "         -5.6346e-02, -2.6301e-01,  4.5173e-01,  5.8703e-02, -7.7431e-01,\n",
       "          8.0319e-01,  4.7837e-01,  2.8527e-01, -5.4724e-01, -1.2824e-01,\n",
       "         -3.1552e-01,  2.2631e-01, -9.0469e-03,  5.5029e-01,  4.3392e-01,\n",
       "          1.5710e+00, -5.0890e-01, -1.1740e+00, -6.1325e-01,  1.7039e-01,\n",
       "         -5.3330e-01, -3.7941e-01, -8.0713e-01, -3.9546e-01, -8.0730e-01,\n",
       "          1.1746e-01,  3.9164e-01, -4.4969e-01,  1.6416e-01, -2.8338e-01,\n",
       "         -3.0791e-02, -2.8310e-01,  6.0113e-01,  2.1147e-01, -4.0827e-01,\n",
       "          1.0374e+00, -5.8083e-01, -6.1036e-01, -7.0817e-01,  1.0268e-01,\n",
       "          1.5193e-01,  3.1885e-02,  1.9655e-01,  7.2565e-01, -1.4161e-01,\n",
       "          4.8485e-01,  7.8547e-02,  4.3489e-01, -1.8040e-02, -5.1532e-01,\n",
       "          3.8185e-01, -1.0726e-01, -8.1261e-01, -2.0179e-01,  2.6735e-01,\n",
       "         -4.6706e-01, -2.4532e-01, -1.3489e-01, -6.8508e-01,  7.2878e-01,\n",
       "          3.5114e-01,  8.8274e-01, -4.0790e-01, -4.2442e-01,  4.4695e-01,\n",
       "          8.0534e-01, -6.9482e-01, -1.8228e-01,  2.4305e-01, -6.7337e-02,\n",
       "          5.6063e-01,  3.4173e-01, -3.8506e-01,  5.5815e-01,  5.9214e-01,\n",
       "          4.3242e-01, -3.8331e-01, -3.2682e-01, -3.4139e-01, -3.2753e-01,\n",
       "          8.3309e-01,  7.3013e-01, -3.7760e-02, -1.2475e+00, -9.5450e-01,\n",
       "         -8.1617e-01, -2.7364e-01,  1.0492e+00,  2.5196e-01, -5.0063e-01,\n",
       "          1.5321e-01, -8.5729e-01, -1.2646e+00,  5.4470e-01, -2.5501e-01,\n",
       "          7.7048e-01,  9.8226e-01, -1.5740e-01,  9.9778e-01, -1.3017e+00,\n",
       "         -6.1176e-01, -4.0238e-01, -1.1433e+00, -2.6517e-01, -1.7625e-01,\n",
       "         -6.7681e-01,  4.4009e-01, -4.0067e-01,  1.2011e+00,  3.9948e-01,\n",
       "          2.1170e-01,  2.7330e-01, -2.5536e-01, -7.1789e-01, -3.9084e-01,\n",
       "          6.4456e-01,  2.7236e-02, -1.4387e+00,  4.3400e-01,  2.2635e-01,\n",
       "         -7.1094e-01,  2.6498e-01,  4.1260e-01, -6.6331e-01, -8.5902e-01,\n",
       "         -4.3925e-01,  3.2730e-01,  8.6870e-01,  5.1504e-01,  3.8421e-01,\n",
       "          1.9072e-01,  3.5554e-01,  1.1448e-02,  3.7707e-01, -2.4058e-01,\n",
       "         -3.4814e-01, -4.8340e-02, -1.4011e-01,  9.0408e-01,  4.0422e-01,\n",
       "         -9.2733e-01,  1.3595e-01, -1.0917e+00,  2.2831e-01, -3.8509e-01,\n",
       "         -9.0700e-01,  1.9617e-01,  7.9718e-01, -1.5675e-01, -6.3339e-01,\n",
       "         -3.3055e-01,  3.7869e-01,  1.2758e-01,  3.7799e-01,  1.2034e-01,\n",
       "          1.0318e+00,  7.1956e-01, -5.2931e-01,  8.9662e-01, -4.2765e-01,\n",
       "         -1.0015e+00,  2.6922e-01, -1.9226e-01, -2.2844e-02, -8.0015e-01,\n",
       "          6.8759e-01,  5.1003e-01, -5.3242e-01, -7.4729e-01,  4.8833e-01,\n",
       "         -9.2304e-01, -4.4994e-01, -1.3947e+00, -4.3411e-01,  2.7490e-01,\n",
       "         -5.7516e-01,  4.2655e-01,  1.7449e-01, -1.3559e+00, -6.6903e-01,\n",
       "          5.5082e-01, -7.2721e-01,  8.4482e-01,  4.3063e-01, -1.6694e-01,\n",
       "         -1.0376e+00,  4.5826e-01, -4.1616e-01, -3.0813e-01, -2.3831e-01,\n",
       "         -1.0051e+00,  4.8334e-01, -3.8683e-01, -8.7835e-01, -7.3281e-01,\n",
       "          1.3879e+00, -1.5709e-01,  2.4806e-01,  1.3159e+00, -1.1269e+00,\n",
       "         -9.5159e-01, -4.1841e-01, -6.9065e-01, -3.4936e-01, -1.9380e-01,\n",
       "         -4.7388e-01,  7.3525e-01, -1.8674e-02, -2.9271e-01,  8.5802e-01,\n",
       "         -6.8332e-01, -1.6666e+00, -6.7365e-02,  5.2660e-01, -2.1855e-01,\n",
       "          5.4942e-01, -8.5865e-02,  3.0085e-01, -7.9767e-01,  9.2783e-01,\n",
       "         -2.7572e-01,  7.5222e-01,  4.0128e-01,  5.4139e-02,  6.5479e-03,\n",
       "         -1.5253e+00, -5.4165e-01, -2.7840e-01,  5.4804e-01,  5.4634e-01,\n",
       "          1.6030e-01,  4.3164e-01,  2.0651e-02,  9.2534e-01,  3.1165e-01,\n",
       "          9.2011e-01,  1.6453e-01, -4.6906e-01,  1.0387e+00,  7.3195e-01]],\n",
       "       grad_fn=<AddmmBackward>)"
      ]
     },
     "execution_count": 31,
     "metadata": {},
     "output_type": "execute_result"
    }
   ],
   "source": [
    "res(torch.randn(1,3,224,224))"
   ]
  },
  {
   "cell_type": "code",
   "execution_count": null,
   "metadata": {},
   "outputs": [],
   "source": []
  }
 ],
 "metadata": {
  "hide_input": false,
  "kernelspec": {
   "display_name": "torch_v1.3",
   "language": "python",
   "name": "torch_v1.3"
  },
  "language_info": {
   "codemirror_mode": {
    "name": "ipython",
    "version": 3
   },
   "file_extension": ".py",
   "mimetype": "text/x-python",
   "name": "python",
   "nbconvert_exporter": "python",
   "pygments_lexer": "ipython3",
   "version": "3.6.9"
  },
  "toc": {
   "base_numbering": 1,
   "nav_menu": {},
   "number_sections": true,
   "sideBar": true,
   "skip_h1_title": false,
   "title_cell": "Table of Contents",
   "title_sidebar": "Contents",
   "toc_cell": false,
   "toc_position": {},
   "toc_section_display": true,
   "toc_window_display": false
  }
 },
 "nbformat": 4,
 "nbformat_minor": 2
}
